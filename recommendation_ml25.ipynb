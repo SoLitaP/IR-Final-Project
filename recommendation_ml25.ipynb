{
 "cells": [
  {
   "cell_type": "code",
   "execution_count": 2,
   "id": "434a6837-9260-4871-9918-79bae2aaa5cf",
   "metadata": {
    "ExecuteTime": {
     "end_time": "2023-12-05T05:21:20.876539600Z",
     "start_time": "2023-12-05T05:21:20.586663600Z"
    }
   },
   "outputs": [],
   "source": [
    "import pandas as pd\n",
    "movies = pd.read_csv(\"../movies.csv\")"
   ]
  },
  {
   "cell_type": "code",
   "execution_count": 3,
   "id": "a910cb3d-48e2-490d-8e94-374bb7c3ad16",
   "metadata": {
    "ExecuteTime": {
     "end_time": "2023-12-05T05:21:20.877571700Z",
     "start_time": "2023-12-05T05:21:20.677900200Z"
    }
   },
   "outputs": [
    {
     "data": {
      "text/plain": "   movieId                               title  \\\n0        1                    Toy Story (1995)   \n1        2                      Jumanji (1995)   \n2        3             Grumpier Old Men (1995)   \n3        4            Waiting to Exhale (1995)   \n4        5  Father of the Bride Part II (1995)   \n\n                                        genres  \n0  Adventure|Animation|Children|Comedy|Fantasy  \n1                   Adventure|Children|Fantasy  \n2                               Comedy|Romance  \n3                         Comedy|Drama|Romance  \n4                                       Comedy  ",
      "text/html": "<div>\n<style scoped>\n    .dataframe tbody tr th:only-of-type {\n        vertical-align: middle;\n    }\n\n    .dataframe tbody tr th {\n        vertical-align: top;\n    }\n\n    .dataframe thead th {\n        text-align: right;\n    }\n</style>\n<table border=\"1\" class=\"dataframe\">\n  <thead>\n    <tr style=\"text-align: right;\">\n      <th></th>\n      <th>movieId</th>\n      <th>title</th>\n      <th>genres</th>\n    </tr>\n  </thead>\n  <tbody>\n    <tr>\n      <th>0</th>\n      <td>1</td>\n      <td>Toy Story (1995)</td>\n      <td>Adventure|Animation|Children|Comedy|Fantasy</td>\n    </tr>\n    <tr>\n      <th>1</th>\n      <td>2</td>\n      <td>Jumanji (1995)</td>\n      <td>Adventure|Children|Fantasy</td>\n    </tr>\n    <tr>\n      <th>2</th>\n      <td>3</td>\n      <td>Grumpier Old Men (1995)</td>\n      <td>Comedy|Romance</td>\n    </tr>\n    <tr>\n      <th>3</th>\n      <td>4</td>\n      <td>Waiting to Exhale (1995)</td>\n      <td>Comedy|Drama|Romance</td>\n    </tr>\n    <tr>\n      <th>4</th>\n      <td>5</td>\n      <td>Father of the Bride Part II (1995)</td>\n      <td>Comedy</td>\n    </tr>\n  </tbody>\n</table>\n</div>"
     },
     "execution_count": 3,
     "metadata": {},
     "output_type": "execute_result"
    }
   ],
   "source": [
    "movies.head()"
   ]
  },
  {
   "cell_type": "code",
   "execution_count": 4,
   "id": "43c7ed66-c5f5-4c23-a4d1-3585d8bbb14c",
   "metadata": {
    "ExecuteTime": {
     "end_time": "2023-12-05T05:21:20.877571700Z",
     "start_time": "2023-12-05T05:21:20.693573900Z"
    }
   },
   "outputs": [],
   "source": [
    "import re\n",
    "# clear parentheses or punctuation from title column\n",
    "def clean_title(title):\n",
    "    title = re.sub(\"[^a-zA-Z0-9 ]\", \"\", title)\n",
    "    return title.lower() # make the title lower case"
   ]
  },
  {
   "cell_type": "code",
   "execution_count": 5,
   "id": "5ad6016d-5598-4f92-a357-a076cb4f5c99",
   "metadata": {
    "ExecuteTime": {
     "end_time": "2023-12-05T05:21:20.886080800Z",
     "start_time": "2023-12-05T05:21:20.697648700Z"
    }
   },
   "outputs": [
    {
     "data": {
      "text/plain": "       movieId                               title  \\\n0            1                    Toy Story (1995)   \n1            2                      Jumanji (1995)   \n2            3             Grumpier Old Men (1995)   \n3            4            Waiting to Exhale (1995)   \n4            5  Father of the Bride Part II (1995)   \n...        ...                                 ...   \n62418   209157                           We (2018)   \n62419   209159           Window of the Soul (2001)   \n62420   209163                    Bad Poems (2018)   \n62421   209169                 A Girl Thing (2001)   \n62422   209171      Women of Devil's Island (1962)   \n\n                                            genres  \\\n0      Adventure|Animation|Children|Comedy|Fantasy   \n1                       Adventure|Children|Fantasy   \n2                                   Comedy|Romance   \n3                             Comedy|Drama|Romance   \n4                                           Comedy   \n...                                            ...   \n62418                                        Drama   \n62419                                  Documentary   \n62420                                 Comedy|Drama   \n62421                           (no genres listed)   \n62422                       Action|Adventure|Drama   \n\n                            clean_title  \n0                        toy story 1995  \n1                          jumanji 1995  \n2                 grumpier old men 1995  \n3                waiting to exhale 1995  \n4      father of the bride part ii 1995  \n...                                 ...  \n62418                           we 2018  \n62419           window of the soul 2001  \n62420                    bad poems 2018  \n62421                 a girl thing 2001  \n62422       women of devils island 1962  \n\n[62423 rows x 4 columns]",
      "text/html": "<div>\n<style scoped>\n    .dataframe tbody tr th:only-of-type {\n        vertical-align: middle;\n    }\n\n    .dataframe tbody tr th {\n        vertical-align: top;\n    }\n\n    .dataframe thead th {\n        text-align: right;\n    }\n</style>\n<table border=\"1\" class=\"dataframe\">\n  <thead>\n    <tr style=\"text-align: right;\">\n      <th></th>\n      <th>movieId</th>\n      <th>title</th>\n      <th>genres</th>\n      <th>clean_title</th>\n    </tr>\n  </thead>\n  <tbody>\n    <tr>\n      <th>0</th>\n      <td>1</td>\n      <td>Toy Story (1995)</td>\n      <td>Adventure|Animation|Children|Comedy|Fantasy</td>\n      <td>toy story 1995</td>\n    </tr>\n    <tr>\n      <th>1</th>\n      <td>2</td>\n      <td>Jumanji (1995)</td>\n      <td>Adventure|Children|Fantasy</td>\n      <td>jumanji 1995</td>\n    </tr>\n    <tr>\n      <th>2</th>\n      <td>3</td>\n      <td>Grumpier Old Men (1995)</td>\n      <td>Comedy|Romance</td>\n      <td>grumpier old men 1995</td>\n    </tr>\n    <tr>\n      <th>3</th>\n      <td>4</td>\n      <td>Waiting to Exhale (1995)</td>\n      <td>Comedy|Drama|Romance</td>\n      <td>waiting to exhale 1995</td>\n    </tr>\n    <tr>\n      <th>4</th>\n      <td>5</td>\n      <td>Father of the Bride Part II (1995)</td>\n      <td>Comedy</td>\n      <td>father of the bride part ii 1995</td>\n    </tr>\n    <tr>\n      <th>...</th>\n      <td>...</td>\n      <td>...</td>\n      <td>...</td>\n      <td>...</td>\n    </tr>\n    <tr>\n      <th>62418</th>\n      <td>209157</td>\n      <td>We (2018)</td>\n      <td>Drama</td>\n      <td>we 2018</td>\n    </tr>\n    <tr>\n      <th>62419</th>\n      <td>209159</td>\n      <td>Window of the Soul (2001)</td>\n      <td>Documentary</td>\n      <td>window of the soul 2001</td>\n    </tr>\n    <tr>\n      <th>62420</th>\n      <td>209163</td>\n      <td>Bad Poems (2018)</td>\n      <td>Comedy|Drama</td>\n      <td>bad poems 2018</td>\n    </tr>\n    <tr>\n      <th>62421</th>\n      <td>209169</td>\n      <td>A Girl Thing (2001)</td>\n      <td>(no genres listed)</td>\n      <td>a girl thing 2001</td>\n    </tr>\n    <tr>\n      <th>62422</th>\n      <td>209171</td>\n      <td>Women of Devil's Island (1962)</td>\n      <td>Action|Adventure|Drama</td>\n      <td>women of devils island 1962</td>\n    </tr>\n  </tbody>\n</table>\n<p>62423 rows × 4 columns</p>\n</div>"
     },
     "execution_count": 5,
     "metadata": {},
     "output_type": "execute_result"
    }
   ],
   "source": [
    "#  Add a new column for clean title         \n",
    "movies[\"clean_title\"] = movies[\"title\"].apply(clean_title)\n",
    "movies"
   ]
  },
  {
   "cell_type": "code",
   "execution_count": null,
   "id": "cfc9841c-ed05-4fc3-80ed-c711ffe75461",
   "metadata": {
    "is_executing": true,
    "ExecuteTime": {
     "start_time": "2023-12-05T05:21:20.796912200Z"
    }
   },
   "outputs": [],
   "source": [
    "from sklearn.feature_extraction.text import TfidfVectorizer\n",
    "vectorizer = TfidfVectorizer(ngram_range=(1,2))\n",
    "# Use TF-IDF as a vectorizer\n",
    "tfidf = vectorizer.fit_transform(movies[\"clean_title\"])\n"
   ]
  },
  {
   "cell_type": "code",
   "execution_count": null,
   "id": "33bcc3f5-61c4-4385-8cdd-b9e86af98b44",
   "metadata": {
    "is_executing": true
   },
   "outputs": [],
   "source": [
    "from sklearn.metrics.pairwise import cosine_similarity\n",
    "import numpy as np\n",
    "\n",
    "# return movies based on title search input\n",
    "def search(title):\n",
    "    title = clean_title(title)\n",
    "    #find tfidf of title input\n",
    "    query_vec = vectorizer.transform([title])\n",
    "    # measure similarity between vector value of title input and tfidf of all clean title  \n",
    "    similarity = cosine_similarity(query_vec, tfidf).flatten()\n",
    "    # get the indices of the most similar \n",
    "    n = 5\n",
    "    indices = np.argpartition(similarity, -n)[-n:]\n",
    "    results = movies.iloc[indices].iloc[::-1]\n",
    "    \n",
    "    return results"
   ]
  },
  {
   "cell_type": "code",
   "execution_count": null,
   "id": "09d147ae-172e-4e63-ba27-c2b0989d06ee",
   "metadata": {
    "is_executing": true
   },
   "outputs": [],
   "source": [
    "import ipywidgets as widgets\n",
    "from IPython.display import display"
   ]
  },
  {
   "cell_type": "code",
   "execution_count": null,
   "id": "8c44ac97-054b-4b74-9954-a206ba4cedb1",
   "metadata": {
    "is_executing": true
   },
   "outputs": [],
   "source": [
    "movie_input = widgets.Text(\n",
    "    value='Toy Story',\n",
    "    description='Movie Title:',\n",
    "    disabled=False\n",
    ")"
   ]
  },
  {
   "cell_type": "code",
   "execution_count": null,
   "id": "5515e64f-9e23-42b6-a03f-3e1ff980da02",
   "metadata": {
    "is_executing": true
   },
   "outputs": [],
   "source": [
    "movie_list = widgets.Output()\n",
    "def on_type(data):\n",
    "    with movie_list:\n",
    "        movie_list.clear_output()\n",
    "        title = data[\"new\"]\n",
    "        if len(title) > 3:\n",
    "            display(search(title))\n",
    "\n",
    "movie_input.observe(on_type, names='value')\n",
    "display(movie_input, movie_list)"
   ]
  },
  {
   "cell_type": "code",
   "execution_count": null,
   "id": "0386cf35-3800-4887-8847-ae3e0575da07",
   "metadata": {
    "is_executing": true
   },
   "outputs": [],
   "source": [
    "ratings = pd.read_csv(\"../ratings.csv\")"
   ]
  },
  {
   "cell_type": "code",
   "execution_count": null,
   "id": "1445b8fb-4678-4991-81d9-20a278dfdcf3",
   "metadata": {
    "is_executing": true
   },
   "outputs": [],
   "source": [
    "ratings.dtypes"
   ]
  },
  {
   "cell_type": "code",
   "execution_count": null,
   "metadata": {
    "is_executing": true
   },
   "outputs": [],
   "source": [
    "movie_id = 89745\n",
    "\n",
    "#def find_similar_movies(movie_id):\n",
    "movie = movies[movies[\"movieId\"] == movie_id]"
   ],
   "id": "80fd036534cf0e5d"
  },
  {
   "cell_type": "code",
   "execution_count": null,
   "metadata": {
    "is_executing": true
   },
   "outputs": [],
   "source": [
    "similar_users = ratings[(ratings[\"movieId\"] == movie_id) & (ratings[\"rating\"] > 4)][\"userId\"].unique()"
   ],
   "id": "6a8f3b87399de57f"
  },
  {
   "cell_type": "code",
   "execution_count": null,
   "metadata": {
    "is_executing": true
   },
   "outputs": [],
   "source": [
    "similar_user_recs = ratings[(ratings[\"userId\"].isin(similar_users)) & (ratings[\"rating\"] > 4)][\"movieId\"]"
   ],
   "id": "aa606e3b4e1f3f8"
  },
  {
   "cell_type": "code",
   "execution_count": null,
   "metadata": {
    "is_executing": true
   },
   "outputs": [],
   "source": [
    "similar_user_recs = similar_user_recs.value_counts() / len(similar_users)\n",
    "\n",
    "similar_user_recs = similar_user_recs[similar_user_recs > .10]"
   ],
   "id": "7199e658ce2b832d"
  },
  {
   "cell_type": "code",
   "execution_count": null,
   "metadata": {
    "is_executing": true
   },
   "outputs": [],
   "source": [
    "all_users = ratings[(ratings[\"movieId\"].isin(similar_user_recs.index)) & (ratings[\"rating\"] > 4)]"
   ],
   "id": "2f711e52d113e6ad"
  },
  {
   "cell_type": "code",
   "execution_count": null,
   "metadata": {
    "is_executing": true
   },
   "outputs": [],
   "source": [
    "all_user_recs = all_users[\"movieId\"].value_counts() / len(all_users[\"userId\"].unique())"
   ],
   "id": "ee39a6761002c838"
  },
  {
   "cell_type": "code",
   "execution_count": null,
   "metadata": {
    "is_executing": true
   },
   "outputs": [],
   "source": [
    "rec_percentages = pd.concat([similar_user_recs, all_user_recs], axis=1)\n",
    "rec_percentages.columns = [\"similar\", \"all\"]"
   ],
   "id": "94358fbed67eaaa5"
  },
  {
   "cell_type": "code",
   "execution_count": null,
   "metadata": {
    "is_executing": true
   },
   "outputs": [],
   "source": [
    "rec_percentages"
   ],
   "id": "b2c91b7e03e66720"
  },
  {
   "cell_type": "code",
   "execution_count": null,
   "metadata": {
    "is_executing": true
   },
   "outputs": [],
   "source": [
    "rec_percentages[\"score\"] = rec_percentages[\"similar\"] / rec_percentages[\"all\"]"
   ],
   "id": "d4edf0dcd08e6ee5"
  },
  {
   "cell_type": "code",
   "execution_count": null,
   "metadata": {
    "is_executing": true
   },
   "outputs": [],
   "source": [
    "rec_percentages = rec_percentages.sort_values(\"score\", ascending=False)"
   ],
   "id": "45dc4c28af5b9f12"
  },
  {
   "cell_type": "code",
   "execution_count": null,
   "metadata": {
    "is_executing": true
   },
   "outputs": [],
   "source": [
    "rec_percentages.head(10).merge(movies, left_index=True, right_on=\"movieId\")"
   ],
   "id": "186023e2bd4c7b2b"
  },
  {
   "cell_type": "code",
   "execution_count": null,
   "id": "04c7bad4-843b-4e06-8a5f-2e89a6035a54",
   "metadata": {
    "is_executing": true
   },
   "outputs": [],
   "source": [
    "def find_similar_movies(movie_id): # find movies that are similar to movie id that is input \n",
    "    similar_users = ratings[(ratings[\"movieId\"] == movie_id) & (ratings[\"rating\"] > 4)][\"userId\"].unique() # get a list of user id that rate the same movies of the input\n",
    "    similar_user_recs = ratings[(ratings[\"userId\"].isin(similar_users)) & (ratings[\"rating\"] > 4)][\"movieId\"] # get the records of the users that rate the same movies \n",
    "    similar_user_recs = similar_user_recs.value_counts() / len(similar_users) # get the ratio between amount of times each movie get rated and amount of all users that rate the movie in the input  \n",
    "    similar_user_recs = similar_user_recs[similar_user_recs > .10] # filter to get the movies with ratio more than 0.1 \n",
    "\n",
    "    all_users = ratings[(ratings[\"movieId\"].isin(similar_user_recs.index)) & (ratings[\"rating\"] > 4)] # get a list of all ratings of the movies related to the input\n",
    "    all_user_recs = all_users[\"movieId\"].value_counts() / len(all_users[\"userId\"].unique()) # get the ratio between the amount of times each movies get rated and total amount of users that rated the related movies  \n",
    "\n",
    "    rec_percentages = pd.concat([similar_user_recs, all_user_recs], axis=1) # create a new dataframe with 2 columns: similar_user_recs and all_user_recs\n",
    "    rec_percentages.columns = [\"similar\", \"all\"] # naming the 2 cols\n",
    "    rec_percentages[\"score\"] = rec_percentages[\"similar\"] / rec_percentages[\"all\"] # add a new column score \n",
    "    rec_percentages = rec_percentages.sort_values(\"score\", ascending=False) # sort the data frame from top to bottom by score\n",
    "\n",
    "    return rec_percentages.head(10).merge(movies, left_index=False, left_on=\"movieId\", right_on=\"movieId\")[[\"movieId\", \"title\", \"genres\", \"score\"]]"
   ]
  },
  {
   "cell_type": "code",
   "execution_count": null,
   "id": "846e770d-0388-4b7c-8c22-7707e21bbb12",
   "metadata": {
    "is_executing": true
   },
   "outputs": [],
   "source": [
    "import ipywidgets as widgets\n",
    "from IPython.display import display\n",
    "\n",
    "movie_name_input = widgets.Text(\n",
    "    value='',\n",
    "    description='Movie Title:',\n",
    "    disabled=False\n",
    ")\n",
    "recommendation_list = widgets.Output()\n",
    "\n",
    "def on_type(data):\n",
    "    with recommendation_list:\n",
    "        recommendation_list.clear_output()\n",
    "        \n",
    "        results = search(str(data))\n",
    "        movie_id = results['movieId'].iloc[0]\n",
    "\n",
    "        display(find_similar_movies(movie_id))\n",
    "movie_name_input.observe(on_type, names='value')\n",
    "\n",
    "display(movie_name_input, recommendation_list)"
   ]
  },
  {
   "cell_type": "code",
   "execution_count": null,
   "metadata": {
    "is_executing": true
   },
   "outputs": [],
   "source": [
    "search(\"ice age\")"
   ],
   "id": "9d299ba403ad40b6"
  },
  {
   "cell_type": "code",
   "execution_count": null,
   "metadata": {
    "is_executing": true
   },
   "outputs": [],
   "source": [
    "!git add ."
   ],
   "id": "52991a598ec0664d"
  },
  {
   "cell_type": "code",
   "execution_count": null,
   "metadata": {
    "is_executing": true
   },
   "outputs": [],
   "source": [
    "!git commit -m \"latest 16 nov\""
   ],
   "id": "3e7325f425414ae1"
  },
  {
   "cell_type": "code",
   "execution_count": null,
   "metadata": {
    "is_executing": true
   },
   "outputs": [],
   "source": [
    "!git push"
   ],
   "id": "c7cb5faf7e394e02"
  },
  {
   "cell_type": "code",
   "execution_count": null,
   "metadata": {
    "is_executing": true
   },
   "outputs": [],
   "source": [],
   "id": "234469a93a7aa4a"
  },
  {
   "cell_type": "code",
   "execution_count": null,
   "metadata": {
    "is_executing": true
   },
   "outputs": [],
   "source": [],
   "id": "fd5fbbc73ce83148"
  }
 ],
 "metadata": {
  "kernelspec": {
   "display_name": "Python 3 (ipykernel)",
   "language": "python",
   "name": "python3"
  },
  "language_info": {
   "codemirror_mode": {
    "name": "ipython",
    "version": 3
   },
   "file_extension": ".py",
   "mimetype": "text/x-python",
   "name": "python",
   "nbconvert_exporter": "python",
   "pygments_lexer": "ipython3",
   "version": "3.10.5"
  }
 },
 "nbformat": 4,
 "nbformat_minor": 5
}
