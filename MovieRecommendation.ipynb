{
 "cells": [
  {
   "cell_type": "code",
   "execution_count": 17,
   "id": "a4584534-5821-48b1-b1f9-947b7cb5c5e5",
   "metadata": {},
   "outputs": [],
   "source": [
    "import numpy as np\n",
    "import pandas as pd\n",
    "import re"
   ]
  },
  {
   "cell_type": "code",
   "execution_count": 18,
   "id": "bd78b613-b36d-4449-8ee5-e6288a34f7a5",
   "metadata": {},
   "outputs": [],
   "source": [
    "movies_df = pd.read_csv(\"../movies.csv\")\n",
    "# ratings_df = pd.read_csv(\"../ratings.csv\")\n",
    "links_df = pd.read_csv(\"../links.csv\")\n",
    "tags_df = pd.read_csv(\"../tags.csv\")\n",
    "genome_tags = pd.read_csv(\"../genome-tags.csv\")\n",
    "genome_score = pd.read_csv(\"../genome-scores.csv\")"
   ]
  },
  {
   "cell_type": "code",
   "execution_count": 19,
   "id": "61ac922d-d977-4d9c-bbcc-d02cf1dd115d",
   "metadata": {},
   "outputs": [],
   "source": [
    "genome_tags = genome_tags[~genome_tags['tag'].isin(['original', 'sequel', 'good sequel','sequels'])]"
   ]
  },
  {
   "cell_type": "code",
   "execution_count": 20,
   "id": "7d1860cf-1bcd-4500-b578-4007bec0eba0",
   "metadata": {},
   "outputs": [],
   "source": [
    "merged = pd.merge(genome_score, genome_tags, on='tagId')\n",
    "\n",
    "# Group the data by 'movieId' and apply a lambda function to get the top 2 tags for each movie\n",
    "top_tags = merged.groupby('movieId').apply(lambda x: x.nlargest(5, 'relevance')['tag'].tolist())\n",
    "\n",
    "# Convert the result to a dataframe\n",
    "top_tags_df = top_tags.reset_index(name='top_relevance')"
   ]
  },
  {
   "cell_type": "code",
   "execution_count": 21,
   "id": "b53e020b-d599-45b3-86d4-d824ead91fc0",
   "metadata": {},
   "outputs": [],
   "source": [
    "movies = pd.merge(top_tags_df, movies_df[['movieId', 'title','genres']], on='movieId')\n",
    "movies = movies.fillna(' ')"
   ]
  },
  {
   "cell_type": "code",
   "execution_count": 22,
   "id": "1ba0f545-6e2d-47d7-acaf-0b492f9d940c",
   "metadata": {},
   "outputs": [],
   "source": [
    "movies['genres'] = movies['genres'].apply(lambda x: re.sub(r'\\|', ' ', x).lower())\n",
    "movies['top_relevance'] = movies['top_relevance'].apply(lambda x: ' '.join(x).replace('-',' '))"
   ]
  },
  {
   "cell_type": "code",
   "execution_count": 90,
   "id": "6ab5c5e9-f0bf-4c92-a510-efb533a8b0f4",
   "metadata": {},
   "outputs": [
    {
     "data": {
      "text/html": [
       "<div>\n",
       "<style scoped>\n",
       "    .dataframe tbody tr th:only-of-type {\n",
       "        vertical-align: middle;\n",
       "    }\n",
       "\n",
       "    .dataframe tbody tr th {\n",
       "        vertical-align: top;\n",
       "    }\n",
       "\n",
       "    .dataframe thead th {\n",
       "        text-align: right;\n",
       "    }\n",
       "</style>\n",
       "<table border=\"1\" class=\"dataframe\">\n",
       "  <thead>\n",
       "    <tr style=\"text-align: right;\">\n",
       "      <th></th>\n",
       "      <th>movieId</th>\n",
       "      <th>top_relevance</th>\n",
       "      <th>title</th>\n",
       "      <th>genres</th>\n",
       "      <th>combine_relevant</th>\n",
       "      <th>clean_title</th>\n",
       "    </tr>\n",
       "  </thead>\n",
       "  <tbody>\n",
       "    <tr>\n",
       "      <th>13811</th>\n",
       "      <td>205072</td>\n",
       "      <td>dumb but funny friendship runaway great movie ...</td>\n",
       "      <td>Zombieland: Double Tap (2019)</td>\n",
       "      <td>action comedy horror</td>\n",
       "      <td>dumb but funny friendship runaway great movie ...</td>\n",
       "      <td>Zombieland Double Tap 2019</td>\n",
       "    </tr>\n",
       "  </tbody>\n",
       "</table>\n",
       "</div>"
      ],
      "text/plain": [
       "       movieId                                      top_relevance  \\\n",
       "13811   205072  dumb but funny friendship runaway great movie ...   \n",
       "\n",
       "                               title                genres  \\\n",
       "13811  Zombieland: Double Tap (2019)  action comedy horror   \n",
       "\n",
       "                                        combine_relevant  \\\n",
       "13811  dumb but funny friendship runaway great movie ...   \n",
       "\n",
       "                      clean_title  \n",
       "13811  Zombieland Double Tap 2019  "
      ]
     },
     "execution_count": 90,
     "metadata": {},
     "output_type": "execute_result"
    }
   ],
   "source": [
    "movies[movies['title'] == 'Zombieland: Double Tap (2019)']"
   ]
  },
  {
   "cell_type": "code",
   "execution_count": 24,
   "id": "c2968469-fe8c-48dd-955f-0f70c4c737e4",
   "metadata": {},
   "outputs": [],
   "source": [
    "movies['combine_relevant'] = movies['top_relevance']+\" \"+movies['genres']"
   ]
  },
  {
   "cell_type": "code",
   "execution_count": 25,
   "id": "a4b57264",
   "metadata": {},
   "outputs": [],
   "source": [
    "def clean_title(title):\n",
    "    title = re.sub(\"[^a-zA-Z0-9 ]\", \"\", title)\n",
    "    return title"
   ]
  },
  {
   "cell_type": "code",
   "execution_count": 28,
   "id": "3e51c5b8",
   "metadata": {},
   "outputs": [],
   "source": [
    "movies[\"clean_title\"] = movies[\"title\"].apply(clean_title)"
   ]
  },
  {
   "cell_type": "code",
   "execution_count": 26,
   "id": "a2690826-e533-42af-9879-2fa0f0b12690",
   "metadata": {},
   "outputs": [],
   "source": [
    "from sklearn.metrics.pairwise import cosine_similarity\n",
    "from sklearn.feature_extraction.text import CountVectorizer\n",
    "\n",
    "counter_vec = CountVectorizer(stop_words='english',max_features=1500)\n",
    "counter_vec.fit(movies['combine_relevant'])\n",
    "\n",
    "gerne_vec_tags = counter_vec.transform(movies['top_relevance'])*0.3 # change the importance\n",
    "gerne_vec_geners = counter_vec.transform(movies['genres'])*1 \n",
    "\n",
    "gerne_vec = gerne_vec_tags+gerne_vec_geners\n",
    "\n",
    "cos_similar = cosine_similarity(gerne_vec,gerne_vec)"
   ]
  },
  {
   "cell_type": "code",
   "execution_count": 29,
   "id": "76bb26fb",
   "metadata": {},
   "outputs": [],
   "source": [
    "from sklearn.feature_extraction.text import TfidfVectorizer\n",
    "vectorizer = TfidfVectorizer(ngram_range=(1,2))\n",
    "\n",
    "tfidf = vectorizer.fit_transform(movies[\"clean_title\"])"
   ]
  },
  {
   "cell_type": "code",
   "execution_count": 56,
   "id": "5415e1bb",
   "metadata": {},
   "outputs": [],
   "source": [
    "from sklearn.metrics.pairwise import cosine_similarity\n",
    "import numpy as np\n",
    "\n",
    "def search(title):\n",
    "    title = clean_title(title)\n",
    "    query_vec = vectorizer.transform([title])\n",
    "    similarity = cosine_similarity(query_vec, tfidf).flatten()\n",
    "    indices = np.argpartition(similarity, -5)[-5:]\n",
    "    results = movies.iloc[indices].iloc[::-1]\n",
    "    \n",
    "    return results['title'].iloc[0]"
   ]
  },
  {
   "cell_type": "code",
   "execution_count": 54,
   "id": "a3db343d-a926-458f-ac02-3f1367b51d4e",
   "metadata": {},
   "outputs": [],
   "source": [
    "movie_title_series = pd.Series(movies.index,movies['title'])\n",
    "\n",
    "def get_recommend(title,cosine_sim = cos_similar):\n",
    "    title = search(str(title))\n",
    "    movie_name = movie_title_series[title]\n",
    "    \n",
    "    sim_scores = list(enumerate(cosine_sim[movie_name]))\n",
    "\n",
    "    sim_scores = sorted(sim_scores, key=lambda x: x[1], reverse=True)\n",
    "\n",
    "    sim_scores = sim_scores[1:11]\n",
    "\n",
    "    movie_indices = [i[0] for i in sim_scores]\n",
    "\n",
    "    return movies['title'].iloc[movie_indices]  "
   ]
  },
  {
   "cell_type": "code",
   "execution_count": 58,
   "id": "db9b92e2",
   "metadata": {},
   "outputs": [
    {
     "data": {
      "text/plain": [
       "'Avengers: Age of Ultron (2015)'"
      ]
     },
     "execution_count": 58,
     "metadata": {},
     "output_type": "execute_result"
    }
   ],
   "source": [
    "results = search(str(\"Avengers\"))\n",
    "results"
   ]
  },
  {
   "cell_type": "code",
   "execution_count": 61,
   "id": "4f576966-947d-4985-947e-6981c7910f6b",
   "metadata": {},
   "outputs": [
    {
     "data": {
      "text/plain": [
       "8583                                 Ant Bully, The (2006)\n",
       "10290    Shrek Forever After (a.k.a. Shrek: The Final C...\n",
       "4407                                 Monsters, Inc. (2001)\n",
       "11932            Toy Story Toons: Hawaiian Vacation (2011)\n",
       "8717                                     Happy Feet (2006)\n",
       "10680                                        Cars 2 (2011)\n",
       "0                                         Toy Story (1995)\n",
       "2807                                    Toy Story 2 (1999)\n",
       "8939                                Shrek the Third (2007)\n",
       "11933                    Toy Story Toons: Small Fry (2011)\n",
       "Name: title, dtype: object"
      ]
     },
     "execution_count": 61,
     "metadata": {},
     "output_type": "execute_result"
    }
   ],
   "source": [
    "get_recommend(\"Toy story\") "
   ]
  },
  {
   "cell_type": "code",
   "execution_count": null,
   "id": "5f9666e7-7b05-4b8b-bdde-a63b781be64c",
   "metadata": {},
   "outputs": [
    {
     "data": {
      "text/html": [
       "<div>\n",
       "<style scoped>\n",
       "    .dataframe tbody tr th:only-of-type {\n",
       "        vertical-align: middle;\n",
       "    }\n",
       "\n",
       "    .dataframe tbody tr th {\n",
       "        vertical-align: top;\n",
       "    }\n",
       "\n",
       "    .dataframe thead th {\n",
       "        text-align: right;\n",
       "    }\n",
       "</style>\n",
       "<table border=\"1\" class=\"dataframe\">\n",
       "  <thead>\n",
       "    <tr style=\"text-align: right;\">\n",
       "      <th></th>\n",
       "      <th>movieId</th>\n",
       "      <th>top_relevance</th>\n",
       "      <th>title</th>\n",
       "      <th>genres</th>\n",
       "      <th>combine_relevant</th>\n",
       "    </tr>\n",
       "  </thead>\n",
       "  <tbody>\n",
       "    <tr>\n",
       "      <th>4</th>\n",
       "      <td>5</td>\n",
       "      <td>father daughter relationship pregnancy midlife...</td>\n",
       "      <td>Father of the Bride Part II (1995)</td>\n",
       "      <td>comedy</td>\n",
       "      <td>father daughter relationship pregnancy midlife...</td>\n",
       "    </tr>\n",
       "  </tbody>\n",
       "</table>\n",
       "</div>"
      ],
      "text/plain": [
       "   movieId                                      top_relevance  \\\n",
       "4        5  father daughter relationship pregnancy midlife...   \n",
       "\n",
       "                                title  genres  \\\n",
       "4  Father of the Bride Part II (1995)  comedy   \n",
       "\n",
       "                                    combine_relevant  \n",
       "4  father daughter relationship pregnancy midlife...  "
      ]
     },
     "execution_count": 36,
     "metadata": {},
     "output_type": "execute_result"
    }
   ],
   "source": [
    "movies[movies['title']=='Father of the Bride Part II (1995)']"
   ]
  },
  {
   "cell_type": "code",
   "execution_count": 86,
   "id": "c18c3a58",
   "metadata": {},
   "outputs": [],
   "source": [
    "user_list_movie=['Zombieland: Double Tap (2019)','Zombieland (2009)','Shaun of the Dead (2004)','Cockneys vs Zombies (2012)']"
   ]
  },
  {
   "cell_type": "code",
   "execution_count": 88,
   "id": "58d1977c",
   "metadata": {},
   "outputs": [],
   "source": [
    "def get_recommend_by_user_list(user_list):\n",
    "    feature_names = list(counter_vec.vocabulary_.keys())\n",
    "    user_vec = np.zeros((1, len(feature_names)))\n",
    "    for movie_name in user_list:\n",
    "        vector_tmp = counter_vec.transform( movies[movies['title'] == movie_name]['combine_relevant'])\n",
    "        user_vec+=vector_tmp.toarray()\n",
    "\n",
    "    cosine = cosine_similarity(gerne_vec,user_vec)\n",
    "\n",
    "    sim_scores = list(enumerate(cosine))\n",
    "\n",
    "    sim_scores = sorted(sim_scores, key=lambda x: x[1], reverse=True)\n",
    "\n",
    "    sim_scores = sim_scores[0:len(user_list)+11]\n",
    "\n",
    "    movie_indices = [i[0] for i in sim_scores]\n",
    "\n",
    "    return movies['title'].iloc[movie_indices]"
   ]
  },
  {
   "cell_type": "code",
   "execution_count": 87,
   "id": "58f1b5df",
   "metadata": {},
   "outputs": [
    {
     "data": {
      "text/plain": [
       "11258    Juan of the Dead (Juan de los Muertos) (2011)\n",
       "11210                       Cockneys vs Zombies (2012)\n",
       "9966                                 Zombieland (2009)\n",
       "12548     Scouts Guide to the Zombie Apocalypse (2015)\n",
       "7098                          Shaun of the Dead (2004)\n",
       "5249               Chopper Chicks in Zombietown (1989)\n",
       "4075          Return of the Living Dead Part II (1988)\n",
       "10053                                  Doghouse (2009)\n",
       "12563                                   Cooties (2015)\n",
       "10499                     Tucker & Dale vs Evil (2010)\n",
       "11957                Dead Snow 2: Red vs. Dead (2014) \n",
       "10898                             Revenant, The (2009)\n",
       "2327                                 Idle Hands (1999)\n",
       "13811                    Zombieland: Double Tap (2019)\n",
       "13364                               Little Evil (2017)\n",
       "Name: title, dtype: object"
      ]
     },
     "execution_count": 87,
     "metadata": {},
     "output_type": "execute_result"
    }
   ],
   "source": [
    "get_recommend_by_user_list(user_list_movie)"
   ]
  },
  {
   "cell_type": "code",
   "execution_count": 89,
   "id": "6b2e81f0",
   "metadata": {},
   "outputs": [
    {
     "name": "stdout",
     "output_type": "stream",
     "text": [
      "Evaluation of list movie that user want recommendations\n",
      "Precision at 5: 0.60\n",
      "Recall at 5: 0.75\n",
      "F1 Score: 0.67\n"
     ]
    }
   ],
   "source": [
    "def precision_at_k(actual, predicted, k):\n",
    "    actual_set = set(actual)\n",
    "    predicted_k = predicted[:k]\n",
    "    correct_predictions = len(actual_set.intersection(predicted_k))\n",
    "    precision = correct_predictions / k if k > 0 else 0\n",
    "    return precision\n",
    "\n",
    "def recall_at_k(actual, predicted, k):\n",
    "    actual_set = set(actual)\n",
    "    predicted_k = predicted[:k]\n",
    "    correct_predictions = len(actual_set.intersection(predicted_k))\n",
    "    recall = correct_predictions / len(actual_set) if len(actual_set) > 0 else 0\n",
    "    return recall\n",
    "\n",
    "def f1_score(precision, recall):\n",
    "    return 2 * (precision * recall) / (precision + recall) if (precision + recall) > 0 else 0\n",
    "\n",
    "recommended_list = get_recommend_by_user_list(user_list_movie)\n",
    "# Set the value of K for precision at K and recall at K\n",
    "k_value = 5\n",
    "\n",
    "precision = precision_at_k(user_list_movie, recommended_list, k_value)\n",
    "recall = recall_at_k(user_list_movie, recommended_list, k_value)\n",
    "f1 = f1_score(precision, recall)\n",
    "\n",
    "print(\"Evaluation of list movie that user want recommendations\")\n",
    "print(f\"Precision at {k_value}: {precision:.2f}\")\n",
    "print(f\"Recall at {k_value}: {recall:.2f}\")\n",
    "print(f\"F1 Score: {f1:.2f}\")\n"
   ]
  },
  {
   "cell_type": "code",
   "execution_count": null,
   "id": "31c2aa0a",
   "metadata": {},
   "outputs": [],
   "source": []
  }
 ],
 "metadata": {
  "kernelspec": {
   "display_name": "Python 3 (ipykernel)",
   "language": "python",
   "name": "python3"
  },
  "language_info": {
   "codemirror_mode": {
    "name": "ipython",
    "version": 3
   },
   "file_extension": ".py",
   "mimetype": "text/x-python",
   "name": "python",
   "nbconvert_exporter": "python",
   "pygments_lexer": "ipython3",
   "version": "3.11.4"
  }
 },
 "nbformat": 4,
 "nbformat_minor": 5
}
